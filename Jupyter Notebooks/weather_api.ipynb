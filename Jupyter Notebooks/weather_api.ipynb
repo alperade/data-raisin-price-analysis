{
 "cells": [
  {
   "cell_type": "code",
   "execution_count": 2,
   "metadata": {},
   "outputs": [],
   "source": [
    "import json\n",
    "import requests\n",
    "import os\n",
    "import csv\n",
    "from datetime import date\n"
   ]
  },
  {
   "cell_type": "code",
   "execution_count": 3,
   "metadata": {},
   "outputs": [
    {
     "name": "stdout",
     "output_type": "stream",
     "text": [
      "None\n"
     ]
    },
    {
     "ename": "KeyError",
     "evalue": "'main'",
     "output_type": "error",
     "traceback": [
      "\u001b[0;31m---------------------------------------------------------------------------\u001b[0m",
      "\u001b[0;31mKeyError\u001b[0m                                  Traceback (most recent call last)",
      "\u001b[1;32m/Users/alperademoglu/code/raisin-data-collection-and-analysis/Jupyter Notebooks/weather_api.ipynb Cell 2\u001b[0m in \u001b[0;36m<cell line: 13>\u001b[0;34m()\u001b[0m\n\u001b[1;32m     <a href='vscode-notebook-cell:/Users/alperademoglu/code/raisin-data-collection-and-analysis/Jupyter%20Notebooks/weather_api.ipynb#W1sZmlsZQ%3D%3D?line=10'>11</a>\u001b[0m response \u001b[39m=\u001b[39m requests\u001b[39m.\u001b[39mget(url, params\u001b[39m=\u001b[39mparams)\n\u001b[1;32m     <a href='vscode-notebook-cell:/Users/alperademoglu/code/raisin-data-collection-and-analysis/Jupyter%20Notebooks/weather_api.ipynb#W1sZmlsZQ%3D%3D?line=11'>12</a>\u001b[0m content \u001b[39m=\u001b[39m json\u001b[39m.\u001b[39mloads(response\u001b[39m.\u001b[39mcontent)\n\u001b[0;32m---> <a href='vscode-notebook-cell:/Users/alperademoglu/code/raisin-data-collection-and-analysis/Jupyter%20Notebooks/weather_api.ipynb#W1sZmlsZQ%3D%3D?line=12'>13</a>\u001b[0m temperature \u001b[39m=\u001b[39m content[\u001b[39m\"\u001b[39;49m\u001b[39mmain\u001b[39;49m\u001b[39m\"\u001b[39;49m][\u001b[39m\"\u001b[39m\u001b[39mtemp\u001b[39m\u001b[39m\"\u001b[39m]\n\u001b[1;32m     <a href='vscode-notebook-cell:/Users/alperademoglu/code/raisin-data-collection-and-analysis/Jupyter%20Notebooks/weather_api.ipynb#W1sZmlsZQ%3D%3D?line=14'>15</a>\u001b[0m \u001b[39m'''\u001b[39;00m\n\u001b[1;32m     <a href='vscode-notebook-cell:/Users/alperademoglu/code/raisin-data-collection-and-analysis/Jupyter%20Notebooks/weather_api.ipynb#W1sZmlsZQ%3D%3D?line=15'>16</a>\u001b[0m \u001b[39mtry:\u001b[39;00m\n\u001b[1;32m     <a href='vscode-notebook-cell:/Users/alperademoglu/code/raisin-data-collection-and-analysis/Jupyter%20Notebooks/weather_api.ipynb#W1sZmlsZQ%3D%3D?line=16'>17</a>\u001b[0m \u001b[39m    return {\u001b[39;00m\n\u001b[0;32m   (...)\u001b[0m\n\u001b[1;32m     <a href='vscode-notebook-cell:/Users/alperademoglu/code/raisin-data-collection-and-analysis/Jupyter%20Notebooks/weather_api.ipynb#W1sZmlsZQ%3D%3D?line=21'>22</a>\u001b[0m \u001b[39m        return None\u001b[39;00m\n\u001b[1;32m     <a href='vscode-notebook-cell:/Users/alperademoglu/code/raisin-data-collection-and-analysis/Jupyter%20Notebooks/weather_api.ipynb#W1sZmlsZQ%3D%3D?line=22'>23</a>\u001b[0m \u001b[39m'''\u001b[39;00m\n",
      "\u001b[0;31mKeyError\u001b[0m: 'main'"
     ]
    }
   ],
   "source": [
    "OPEN_WEATHER_API_KEY = os.getenv(\"OPEN_WEATHER_API_KEY\")\n",
    "\n",
    "params = {\n",
    "    \"lat\": '38.55156276399227',\n",
    "    \"lon\": '28.238870626613853',\n",
    "    \"appid\": OPEN_WEATHER_API_KEY,\n",
    "    \"units\": \"metric\",\n",
    "}\n",
    "url = \"https://api.openweathermap.org/data/2.5/weather\"\n",
    "response = requests.get(url, params=params)\n",
    "content = json.loads(response.content)\n",
    "temperature = content[\"main\"][\"temp\"]\n",
    "\n",
    "'''\n",
    "try:\n",
    "    return {\n",
    "            \"description\": content[\"weather\"][0][\"description\"],\n",
    "            \"temp\": content[\"main\"][\"temp\"],\n",
    "        }\n",
    "    except (KeyError, IndexError):\n",
    "        return None\n",
    "'''"
   ]
  },
  {
   "cell_type": "code",
   "execution_count": 35,
   "metadata": {},
   "outputs": [],
   "source": [
    "today = date.today()\n",
    "\n",
    "with open('../raisin_data.csv', 'w', newline='') as csvfile:\n",
    "    fieldnames = ['Date', 'Temperature']\n",
    "    writer = csv.DictWriter(csvfile, fieldnames=fieldnames)\n",
    "    writer.writeheader()\n",
    "    writer.writerow({'Date': \"asdasd\", 'Temperature': \"asdgf\"})"
   ]
  },
  {
   "cell_type": "code",
   "execution_count": 38,
   "metadata": {},
   "outputs": [],
   "source": [
    "new_row = {'Date': today, 'Temperature': temperature}\n",
    "\n",
    "with open('../raisin_data.csv', 'a') as csvfile:\n",
    "    writer = csv.DictWriter(csvfile, fieldnames=fieldnames)\n",
    "    writer.writerow(new_row)"
   ]
  }
 ],
 "metadata": {
  "kernelspec": {
   "display_name": "Python 3.10.2 64-bit ('3.10.2')",
   "language": "python",
   "name": "python3"
  },
  "language_info": {
   "codemirror_mode": {
    "name": "ipython",
    "version": 3
   },
   "file_extension": ".py",
   "mimetype": "text/x-python",
   "name": "python",
   "nbconvert_exporter": "python",
   "pygments_lexer": "ipython3",
   "version": "3.10.2"
  },
  "orig_nbformat": 4,
  "vscode": {
   "interpreter": {
    "hash": "e6f3a264ddd5415f73e22f47a3c045ca446374887deec227695002f65cae88c8"
   }
  }
 },
 "nbformat": 4,
 "nbformat_minor": 2
}
