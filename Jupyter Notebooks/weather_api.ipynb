{
 "cells": [
  {
   "cell_type": "code",
   "execution_count": 21,
   "metadata": {},
   "outputs": [],
   "source": [
    "import json\n",
    "import requests\n",
    "import os\n"
   ]
  },
  {
   "cell_type": "code",
   "execution_count": 20,
   "metadata": {},
   "outputs": [
    {
     "name": "stdout",
     "output_type": "stream",
     "text": [
      "14.14\n"
     ]
    },
    {
     "data": {
      "text/plain": [
       "'\\ntry:\\n    return {\\n            \"description\": content[\"weather\"][0][\"description\"],\\n            \"temp\": content[\"main\"][\"temp\"],\\n        }\\n    except (KeyError, IndexError):\\n        return None\\n'"
      ]
     },
     "execution_count": 20,
     "metadata": {},
     "output_type": "execute_result"
    }
   ],
   "source": [
    "OPEN_WEATHER_API_KEY = os.getenv(\"OPEN_WEATHER_API_KEY\")\n",
    "\n",
    "params = {\n",
    "    \"lat\": '38.55156276399227',\n",
    "    \"lon\": '28.238870626613853',\n",
    "    \"appid\": OPEN_WEATHER_API_KEY,\n",
    "    \"units\": \"metric\",\n",
    "}\n",
    "url = \"https://api.openweathermap.org/data/2.5/weather\"\n",
    "response = requests.get(url, params=params)\n",
    "content = json.loads(response.content)\n",
    "print(content[\"main\"][\"temp\"])\n",
    "\n",
    "'''\n",
    "try:\n",
    "    return {\n",
    "            \"description\": content[\"weather\"][0][\"description\"],\n",
    "            \"temp\": content[\"main\"][\"temp\"],\n",
    "        }\n",
    "    except (KeyError, IndexError):\n",
    "        return None\n",
    "'''"
   ]
  },
  {
   "cell_type": "code",
   "execution_count": null,
   "metadata": {},
   "outputs": [],
   "source": []
  }
 ],
 "metadata": {
  "kernelspec": {
   "display_name": "Python 3.10.2 64-bit ('3.10.2')",
   "language": "python",
   "name": "python3"
  },
  "language_info": {
   "codemirror_mode": {
    "name": "ipython",
    "version": 3
   },
   "file_extension": ".py",
   "mimetype": "text/x-python",
   "name": "python",
   "nbconvert_exporter": "python",
   "pygments_lexer": "ipython3",
   "version": "3.10.2"
  },
  "orig_nbformat": 4,
  "vscode": {
   "interpreter": {
    "hash": "e6f3a264ddd5415f73e22f47a3c045ca446374887deec227695002f65cae88c8"
   }
  }
 },
 "nbformat": 4,
 "nbformat_minor": 2
}
